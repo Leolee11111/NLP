{
 "metadata": {
  "language_info": {
   "codemirror_mode": {
    "name": "ipython",
    "version": 3
   },
   "file_extension": ".py",
   "mimetype": "text/x-python",
   "name": "python",
   "nbconvert_exporter": "python",
   "pygments_lexer": "ipython3",
   "version": 3
  },
  "orig_nbformat": 2
 },
 "nbformat": 4,
 "nbformat_minor": 2,
 "cells": [
  {
   "source": [
    "# 1.函数"
   ],
   "cell_type": "markdown",
   "metadata": {}
  },
  {
   "source": [
    "## 1.1 函数的定义\n",
    "定义:设数集 $D \\subset {\\mathbf{R}}, \\text { 则称映射 } f: D \\rightarrow \\mathbf{R} \\text { 为定义在 } D \\text { 上的函数,通常简记为 }$\n",
    "$$\n",
    "y=f(x), x \\in D\n",
    "$$\n",
    "函数定义中,对每个 $x \\in D$,按对应法则 $f$,总有唯一确定的值 $y$ 与之对应， 这个值称为函数 $f$ 在 $x$ 处的函数值,记作 $f(x),$ 即 $y=f(x) .$ 因变量 $y$ 与自变量 $x$ 之间的这种依赖关系,通常称为函数关系. 函数值 $f(x)$ 的全体所构成的集合称为函数 $f$ 的值域,记作 $R_{f}$ 或 $f(D),$ 即\n",
    "$$\n",
    "R_{f}=f(D)=\\{y \\mid y=f(x), x \\in D\\}\n",
    "$$\n",
    "\n",
    "说白了，函数就是实数集到实数集的一个映射，如：\n",
    "$$\n",
    "y=|x|=\\left\\{\\begin{array}{ll}\n",
    "x, & x \\geqslant 0 \\\\\n",
    "-x, & x<0\n",
    "\\end{array}\\right.\n",
    "$$\n",
    "的定义域 $D=(-\\infty,+\\infty),$ 值域 $R_{f}=[0,+\\infty),$ 它的图形如下图所示.这函数称为绝对值函数。\n",
    "\n",
    "![jupyter](./image/高等数学/1.png)\n",
    "\n",
    "## 1.2 反函数\n",
    "设函数 $f: D \\rightarrow f(D)$ 是单射,则它存在逆映射 $f^{-1}: f(D) \\rightarrow D,$ 称此映射 $f^{-1}$ 为函数 $f$ 的反函数。按此定义,对每个 $y \\in f(D),$ 有唯一的 $x \\in D,$ 使得 $f(x)=y,$ 于是有 $f^{-1}(y)=x$                                \n",
    "这就是说,反函数 $f^{-1}$ 的对应法则是完全由函数 $f$ 的对应法则所确定的. 例如,函数 $y=x^{3}, x \\in \\mathbf{R}$ 是单射, 所以它的反函数存在,其反函数为\n",
    "$x=y^{\\frac{1}{3}}, y \\in \\mathbf{R}$                                         \n",
    "由于习惯上自变量用 $x$ 表示,因变量用 $y$ 表示,于是 $y=x^{3}, x \\in \\mathbf{R}$ 的反函数通常写作 $y=x^{\\frac{1}{3}}, x \\in \\mathbf{R}$。一般的, $y=f(x), x \\in D$ 的反函数记成 $y=f^{-1}(x), x \\in f(D)$.\n",
    "\n",
    "![jupyter](./image/高等数学/2.png)\n",
    "\n",
    "## 1.3 复合函数\n",
    "设函数 $y=f(u)$ 的定义城为 $D_{f},$ 函数 $u=g(x)$ 的定义域为 $D_{x},$ 且其值域 $R_{g} \\subset D_{t},$ 则由下式确定的函数\n",
    "$$\n",
    "y=f[g(x)], \\quad x \\in D_{x}\n",
    "$$\n",
    "称为由函数 $u=g(x)$ 与函数 $y=f(u)$ 构成的复合函数,它的定义域为 $D_{x}$ ,变量$u$ 称为中间变量。            \n",
    "\n",
    "例子：物体运动的动能为 $E=m v^{2} / 2,$ 而自由落体的速度为 $v=g t,$ 所以自由落体的动能是时间 $t$ 的复合函数 :\n",
    "$$\n",
    "E=\\frac{1}{2} m g^{2} t^{2}\n",
    "$$"
   ],
   "cell_type": "markdown",
   "metadata": {}
  },
  {
   "source": [
    "# 2.导数"
   ],
   "cell_type": "markdown",
   "metadata": {}
  },
  {
   "source": [
    "## 2.1 引例\n",
    "引例1：已知位移求瞬时速度                              \n",
    "物体作变速直线运动，已知物体的位置与时间的关系是 $s=f(t),$ 求物体在 $t=t_{0}$ 时的瞬时速度为$v(t_0)$                 \n",
    "当时间由 $t_{0}$ 变化到 $t_{0}+\\Delta t$ 时，                              \n",
    "物体的位移 $\\Delta \\boldsymbol{s}=\\boldsymbol{f}\\left(\\boldsymbol{t}_{0}+\\Delta t\\right)-\\boldsymbol{f}\\left(t_{0}\\right)$                \n",
    "所以物体在这段时间的平均速度 $\\bar{v}=\\frac{\\Delta s}{\\Delta t}$.                     \n",
    "怎样把平均速度与瞬时速度联系起来？                     \n",
    "因为在短时间内速度变化不大，所以可用物体在 $t_{0}$ 附近的平均速度近似 $t_{0}$ 时刻的瞬时速度.                   \n",
    "即 $\\boldsymbol{v}\\left(\\boldsymbol{t}_{0}\\right) \\approx \\frac{\\Delta \\boldsymbol{s}}{\\Delta \\boldsymbol{t}} \\quad(\\Delta t$越小误差越小$)$                  \n",
    "为了得到瞬时速度的精确概念，把瞬时速度理解成当时间段无限缩小时平均速度的极限。                             \n",
    "即 $\\boldsymbol{v}\\left(\\boldsymbol{t}_{0}\\right)=\\lim _{\\Delta t \\rightarrow 0} \\frac{\\Delta \\boldsymbol{s}}{\\Delta t}=\\lim _{\\Delta t \\rightarrow 0} \\frac{\\boldsymbol{f}\\left(\\boldsymbol{t}_{0}+\\Delta t\\right)-\\boldsymbol{f}\\left(\\boldsymbol{t}_{0}\\right)}{\\Delta \\boldsymbol{t}}$                       \n",
    "所以瞬时速度是位移对时间的瞬时变化率。                      \n",
    "引例2：曲线的切线                                       \n",
    "求曲线 $\\boldsymbol{y}=\\boldsymbol{f}(\\boldsymbol{x})$ 在点 $\\boldsymbol{M}\\left(\\boldsymbol{x}_{0}, \\boldsymbol{f}\\left(\\boldsymbol{x}_{0}\\right)\\right)$ 处的切线方程：                  \n",
    "在曲线上点 $M$ 附近取一点 $N$, 作直线 $M N$ (割线).\n",
    "当点N沿着曲线趋向于 $M$ 时，如果割线 $M N$有一个极限位置,就把此极限位置理解为曲线在点M处的切线。              \n",
    "\n",
    "![jupyter](./image/高等数学/3.png)\n",
    "\n",
    "相应的，切线的斜率等于割线斜率的极限。割线 $M N$ 的斜率为 $\\frac{\\Delta y}{\\Delta x}=\\frac{f\\left(x_{0}+\\Delta x\\right)-f\\left(x_{0}\\right)}{\\Delta x}$              \n",
    "切线的斜率为\n",
    "$$\n",
    "\\begin{aligned} k &=\\lim _{\\Delta x \\rightarrow 0} \\frac{\\Delta y}{\\Delta x} \\\\ &=\\lim _{\\Delta x \\rightarrow 0} \\frac{f\\left(x_{0}+\\Delta x\\right)-f\\left(x_{0}\\right)}{\\Delta x} \\end{aligned}\n",
    "$$                \n",
    "\n",
    "## 2.2 导数的定义\n",
    "定义：设函数 $y=f(x)$ 在点 $x_{0}$ 的某个邻域内有定义,当自变量 $x$ 在 $x_{0}$ 处取得增量\n",
    "$\\Delta x$ ;如果 $\\Delta y$ 与 $\\Delta x$ 之比当 $\\Delta x \\rightarrow 0$ 时的 极限存在, 则称函数 $y=$ $f(x)$ 在点 $x_{0}$ 处可导,并称这个极限为函数 $y=f(x)$ 在点 $x_{0}$ 处的导数,记为 $f^{\\prime}\\left(x_{0}\\right),$ 即               \n",
    "$$\n",
    "f^{\\prime}\\left(x_{0}\\right)=\\lim _{\\Delta, x \\rightarrow 0} \\frac{\\Delta y}{\\Delta x}=\\lim _{\\Delta x \\rightarrow 0} \\frac{f\\left(x_{0}+\\Delta x\\right)-f\\left(x_{0}\\right)}{\\Delta x}\n",
    "$$\n",
    "也可记作 $\\left.y^{\\prime}\\right|_{x=x_{0}}$,$\\left.\\frac{\\mathrm{d} y}{\\mathrm{~d} x}\\right|_{x=x_{0}}$ 或 $\\left.\\frac{\\mathrm{d} f(x)}{\\mathrm{d} x}\\right|_{x=x_{0}} $。               \n",
    "\n",
    "**简单的说，导数就是因变量的增量与自变量的增量之比的极限。**尝试使用函数导数的定义推导$y = x^2$的导数？                    \n",
    "\n",
    "## 2.3 函数的求导法则\n"
   ],
   "cell_type": "markdown",
   "metadata": {}
  },
  {
   "cell_type": "code",
   "execution_count": null,
   "metadata": {},
   "outputs": [],
   "source": []
  }
 ]
}